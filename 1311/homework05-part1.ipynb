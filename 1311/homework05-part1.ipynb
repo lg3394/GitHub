{
 "cells": [
  {
   "cell_type": "code",
   "execution_count": null,
   "id": "3f896670-847b-4173-92ec-9f6dbf93b2b3",
   "metadata": {},
   "outputs": [],
   "source": [
    "#1.Examine both Open Meteo and Tomorrow and decide which one you'd prefer to use. What drove your decision?"
   ]
  },
  {
   "cell_type": "code",
   "execution_count": null,
   "id": "47b2a84b-0fd7-4baa-b231-338c0605c187",
   "metadata": {},
   "outputs": [],
   "source": [
    "#I chose Open Meteo because it seemed a bit more straightforward and easier to use."
   ]
  },
  {
   "cell_type": "code",
   "execution_count": null,
   "id": "95d0f06c-0b2f-4d81-a653-2a2fb653dced",
   "metadata": {},
   "outputs": [],
   "source": [
    "#2.What is the URL to the documentation? (You don't use code for this one)"
   ]
  },
  {
   "cell_type": "code",
   "execution_count": null,
   "id": "f5825476-b2d8-41d5-a066-a0c4672881ae",
   "metadata": {},
   "outputs": [],
   "source": [
    "# https://open-meteo.com/en/docs"
   ]
  },
  {
   "cell_type": "code",
   "execution_count": null,
   "id": "af68d07a-23b9-49dc-8e2c-2c1c6465104a",
   "metadata": {},
   "outputs": [],
   "source": [
    "#3.Make a request for the current weather where you are born, or somewhere you've lived."
   ]
  },
  {
   "cell_type": "code",
   "execution_count": 8,
   "id": "58dbdcf7-dcbc-4e49-9a3c-b1e7438ca5d8",
   "metadata": {},
   "outputs": [
    {
     "data": {
      "text/plain": [
       "''"
      ]
     },
     "execution_count": 8,
     "metadata": {},
     "output_type": "execute_result"
    }
   ],
   "source": [
    "import requests\n",
    "url = \"https://api.open-meteo.com/v1/forecast\"\n",
    "data = requests.get(url).text\n",
    "data"
   ]
  },
  {
   "cell_type": "code",
   "execution_count": 14,
   "id": "cafb66fb-8c15-4c22-a28a-a56b207c7152",
   "metadata": {},
   "outputs": [
    {
     "data": {
      "text/plain": [
       "{'latitude': 40.75,\n",
       " 'longitude': 44.9375,\n",
       " 'generationtime_ms': 0.054955482482910156,\n",
       " 'utc_offset_seconds': 14400,\n",
       " 'timezone': 'Asia/Yerevan',\n",
       " 'timezone_abbreviation': '+04',\n",
       " 'elevation': 1324.0,\n",
       " 'current_weather_units': {'time': 'iso8601',\n",
       "  'interval': 'seconds',\n",
       "  'temperature': '°C',\n",
       "  'windspeed': 'km/h',\n",
       "  'winddirection': '°',\n",
       "  'is_day': '',\n",
       "  'weathercode': 'wmo code'},\n",
       " 'current_weather': {'time': '2024-11-10T01:15',\n",
       "  'interval': 900,\n",
       "  'temperature': -1.1,\n",
       "  'windspeed': 1.5,\n",
       "  'winddirection': 284,\n",
       "  'is_day': 0,\n",
       "  'weathercode': 1}}"
      ]
     },
     "execution_count": 14,
     "metadata": {},
     "output_type": "execute_result"
    }
   ],
   "source": [
    "import requests\n",
    "url = \"https://api.open-meteo.com/v1/forecast?latitude=40.7417&longitude=44.8501&current_weather=true&timezone=auto\"\n",
    "data = requests.get(url).json()\n",
    "data"
   ]
  },
  {
   "cell_type": "code",
   "execution_count": 15,
   "id": "768c2463-b6a6-4057-af81-e9b2c820d0ad",
   "metadata": {},
   "outputs": [
    {
     "data": {
      "text/plain": [
       "dict_keys(['latitude', 'longitude', 'generationtime_ms', 'utc_offset_seconds', 'timezone', 'timezone_abbreviation', 'elevation', 'current_weather_units', 'current_weather'])"
      ]
     },
     "execution_count": 15,
     "metadata": {},
     "output_type": "execute_result"
    }
   ],
   "source": [
    "data.keys()"
   ]
  },
  {
   "cell_type": "code",
   "execution_count": 19,
   "id": "7d894858-ca5a-4ded-bd92-c767598690b7",
   "metadata": {},
   "outputs": [
    {
     "data": {
      "text/plain": [
       "'This location is in Asia/Yerevan'"
      ]
     },
     "execution_count": 19,
     "metadata": {},
     "output_type": "execute_result"
    }
   ],
   "source": [
    "country = data['timezone']\n",
    "country\n",
    "(f\"This location is in {country}\")"
   ]
  },
  {
   "cell_type": "code",
   "execution_count": null,
   "id": "68d19ad6-f1d3-4beb-b884-86aee7080b76",
   "metadata": {},
   "outputs": [],
   "source": [
    "# Print out the difference between the current temperature and how warm it feels. Use \"It feels ___ degrees colder\" or \"It feels ___ degrees warmer,\" not negative numbers."
   ]
  },
  {
   "cell_type": "code",
   "execution_count": 30,
   "id": "5dd37b51-c1ed-456d-af89-3948fe9d2fa2",
   "metadata": {},
   "outputs": [
    {
     "data": {
      "text/plain": [
       "{'latitude': 40.75,\n",
       " 'longitude': 44.9375,\n",
       " 'generationtime_ms': 0.03707408905029297,\n",
       " 'utc_offset_seconds': 14400,\n",
       " 'timezone': 'Asia/Yerevan',\n",
       " 'timezone_abbreviation': '+04',\n",
       " 'elevation': 1324.0,\n",
       " 'current_units': {'time': 'iso8601',\n",
       "  'interval': 'seconds',\n",
       "  'temperature_2m': '°C'},\n",
       " 'current': {'time': '2024-11-10T01:30',\n",
       "  'interval': 900,\n",
       "  'temperature_2m': -1.2},\n",
       " 'daily_units': {'time': 'iso8601',\n",
       "  'temperature_2m_max': '°C',\n",
       "  'apparent_temperature_max': '°C'},\n",
       " 'daily': {'time': ['2024-11-10'],\n",
       "  'temperature_2m_max': [12.8],\n",
       "  'apparent_temperature_max': [9.9]}}"
      ]
     },
     "execution_count": 30,
     "metadata": {},
     "output_type": "execute_result"
    }
   ],
   "source": [
    "import requests\n",
    "url = \"https://api.open-meteo.com/v1/forecast?latitude=40.7417&longitude=44.8501&current=temperature_2m&daily=temperature_2m_max,apparent_temperature_max&timezone=auto&forecast_days=1\"\n",
    "tempdata = requests.get(url).json()\n",
    "tempdata"
   ]
  },
  {
   "cell_type": "code",
   "execution_count": 36,
   "id": "0c17ab60-7eae-4459-8778-c509d443a113",
   "metadata": {},
   "outputs": [
    {
     "data": {
      "text/plain": [
       "{'time': ['2024-11-10'],\n",
       " 'temperature_2m_max': [12.8],\n",
       " 'apparent_temperature_max': [9.9]}"
      ]
     },
     "execution_count": 36,
     "metadata": {},
     "output_type": "execute_result"
    }
   ],
   "source": [
    "tempdata['daily']"
   ]
  },
  {
   "cell_type": "code",
   "execution_count": 52,
   "id": "a7ad3149-ed25-4ad5-9255-dab68ddb3e5f",
   "metadata": {},
   "outputs": [
    {
     "data": {
      "text/plain": [
       "(12.8, 9.9)"
      ]
     },
     "execution_count": 52,
     "metadata": {},
     "output_type": "execute_result"
    }
   ],
   "source": [
    "maxtemp = float(tempdata['daily']['temperature_2m_max'][0])\n",
    "maxtempfeel = float(tempdata['daily']['apparent_temperature_max'][0])\n",
    "maxtemp, maxtempfeel"
   ]
  },
  {
   "cell_type": "code",
   "execution_count": 53,
   "id": "a0cab095-dd79-44ac-82fa-fc9cad10800b",
   "metadata": {},
   "outputs": [
    {
     "name": "stdout",
     "output_type": "stream",
     "text": [
      "It feels 2.9000000000000004 degrees colder\n"
     ]
    }
   ],
   "source": [
    "if maxtemp > maxtempfeel:\n",
    "    tempdiff = maxtemp - maxtempfeel\n",
    "    print (f\"It feels {tempdiff} degrees colder\")\n",
    "elif maxtempfeel > maxtemp:\n",
    "    tempdiff = maxtempfeel - maxtemp\n",
    "    print (f\"It feels {tempdiff} degrees warmer\")"
   ]
  },
  {
   "cell_type": "code",
   "execution_count": 55,
   "id": "6c56b7a0-a0a8-4824-a2af-fe093552b8ea",
   "metadata": {},
   "outputs": [
    {
     "name": "stdout",
     "output_type": "stream",
     "text": [
      "It feels 2.90 degrees colder\n"
     ]
    }
   ],
   "source": [
    "if maxtemp > maxtempfeel:\n",
    "    tempdiff = maxtemp - maxtempfeel\n",
    "    print (f\"It feels {tempdiff:.2f} degrees colder\")\n",
    "elif maxtempfeel > maxtemp:\n",
    "    tempdiff = maxtempfeel - maxtemp\n",
    "    print (f\"It feels {tempdiff:.2f} degrees warmer\")"
   ]
  },
  {
   "cell_type": "code",
   "execution_count": null,
   "id": "af7f7513-86bf-4c87-99ef-72846768a476",
   "metadata": {},
   "outputs": [],
   "source": [
    "# What's the current temperature at Heathrow International Airport? Use the airport's IATA code to search."
   ]
  },
  {
   "cell_type": "code",
   "execution_count": 57,
   "id": "0d91b1c9-3abb-419f-a25b-83b6acd146d1",
   "metadata": {},
   "outputs": [
    {
     "data": {
      "text/plain": [
       "{'latitude': 51.48,\n",
       " 'longitude': -0.46000004,\n",
       " 'generationtime_ms': 0.02300739288330078,\n",
       " 'utc_offset_seconds': 0,\n",
       " 'timezone': 'Europe/London',\n",
       " 'timezone_abbreviation': 'GMT',\n",
       " 'elevation': 34.0,\n",
       " 'current_units': {'time': 'iso8601',\n",
       "  'interval': 'seconds',\n",
       "  'temperature_2m': '°C'},\n",
       " 'current': {'time': '2024-11-09T21:45',\n",
       "  'interval': 900,\n",
       "  'temperature_2m': 7.0}}"
      ]
     },
     "execution_count": 57,
     "metadata": {},
     "output_type": "execute_result"
    }
   ],
   "source": [
    "import requests\n",
    "url = \"https://api.open-meteo.com/v1/forecast?latitude=51.4704&longitude=-0.4586&current=temperature_2m&timezone=auto&forecast_days=1\"\n",
    "lhrdata = requests.get(url).json()\n",
    "lhrdata"
   ]
  },
  {
   "cell_type": "code",
   "execution_count": 62,
   "id": "1d745d10-8fa6-4688-a957-04794d5d3ef7",
   "metadata": {},
   "outputs": [
    {
     "data": {
      "text/plain": [
       "'The current temperature at Heathrow International Airport is 7.0 degrees Celsius'"
      ]
     },
     "execution_count": 62,
     "metadata": {},
     "output_type": "execute_result"
    }
   ],
   "source": [
    "currenttemp = float(lhrdata['current']['temperature_2m'])\n",
    "(f\"The current temperature at Heathrow International Airport is {currenttemp} degrees Celsius\")"
   ]
  },
  {
   "cell_type": "code",
   "execution_count": null,
   "id": "4bb5ec99-2a40-44a2-957e-8e9e79dda740",
   "metadata": {},
   "outputs": [],
   "source": [
    "# What URL would I use to request a 3-day forecast at Heathrow?"
   ]
  },
  {
   "cell_type": "code",
   "execution_count": 63,
   "id": "1d6e230b-3c83-4326-a84f-ed78c1a5b9a0",
   "metadata": {},
   "outputs": [],
   "source": [
    "# url = \"https://api.open-meteo.com/v1/forecast?latitude=51.4704&longitude=-0.4586&current=temperature_2m,precipitation&daily=temperature_2m_max,temperature_2m_min,precipitation_sum&timezone=auto&forecast_days=3\""
   ]
  },
  {
   "cell_type": "code",
   "execution_count": 64,
   "id": "d8e54d0d-af8a-4067-a228-6c713da728b3",
   "metadata": {},
   "outputs": [
    {
     "data": {
      "text/plain": [
       "{'latitude': 51.48,\n",
       " 'longitude': -0.46000004,\n",
       " 'generationtime_ms': 0.07700920104980469,\n",
       " 'utc_offset_seconds': 0,\n",
       " 'timezone': 'Europe/London',\n",
       " 'timezone_abbreviation': 'GMT',\n",
       " 'elevation': 34.0,\n",
       " 'current_units': {'time': 'iso8601',\n",
       "  'interval': 'seconds',\n",
       "  'temperature_2m': '°C',\n",
       "  'precipitation': 'mm'},\n",
       " 'current': {'time': '2024-11-09T22:00',\n",
       "  'interval': 900,\n",
       "  'temperature_2m': 6.9,\n",
       "  'precipitation': 0.0},\n",
       " 'daily_units': {'time': 'iso8601',\n",
       "  'temperature_2m_max': '°C',\n",
       "  'temperature_2m_min': '°C',\n",
       "  'precipitation_sum': 'mm'},\n",
       " 'daily': {'time': ['2024-11-09', '2024-11-10', '2024-11-11'],\n",
       "  'temperature_2m_max': [8.4, 10.7, 11.1],\n",
       "  'temperature_2m_min': [6.9, 4.3, 6.4],\n",
       "  'precipitation_sum': [0.0, 0.0, 0.0]}}"
      ]
     },
     "execution_count": 64,
     "metadata": {},
     "output_type": "execute_result"
    }
   ],
   "source": [
    "import requests\n",
    "url = \"https://api.open-meteo.com/v1/forecast?latitude=51.4704&longitude=-0.4586&current=temperature_2m,precipitation&daily=temperature_2m_max,temperature_2m_min,precipitation_sum&timezone=auto&forecast_days=3\"\n",
    "lhr3data = requests.get(url).json()\n",
    "lhr3data"
   ]
  },
  {
   "cell_type": "code",
   "execution_count": 65,
   "id": "6e57c5dc-5ad0-4340-a1ee-814bd12bf9aa",
   "metadata": {},
   "outputs": [
    {
     "data": {
      "text/plain": [
       "dict_keys(['latitude', 'longitude', 'generationtime_ms', 'utc_offset_seconds', 'timezone', 'timezone_abbreviation', 'elevation', 'current_units', 'current', 'daily_units', 'daily'])"
      ]
     },
     "execution_count": 65,
     "metadata": {},
     "output_type": "execute_result"
    }
   ],
   "source": [
    "lhr3data.keys()"
   ]
  },
  {
   "cell_type": "code",
   "execution_count": 68,
   "id": "e49a48e5-aa1a-4fa5-9445-b6adcb91006b",
   "metadata": {},
   "outputs": [
    {
     "data": {
      "text/plain": [
       "{'time': ['2024-11-09', '2024-11-10', '2024-11-11'],\n",
       " 'temperature_2m_max': [8.4, 10.7, 11.1],\n",
       " 'temperature_2m_min': [6.9, 4.3, 6.4],\n",
       " 'precipitation_sum': [0.0, 0.0, 0.0]}"
      ]
     },
     "execution_count": 68,
     "metadata": {},
     "output_type": "execute_result"
    }
   ],
   "source": [
    "lhr3data['daily']"
   ]
  },
  {
   "cell_type": "code",
   "execution_count": 72,
   "id": "28fa56ab-36ad-4175-90c0-71e4a506a7ed",
   "metadata": {},
   "outputs": [
    {
     "data": {
      "text/plain": [
       "['2024-11-09']"
      ]
     },
     "execution_count": 72,
     "metadata": {},
     "output_type": "execute_result"
    }
   ],
   "source": [
    "lhr3data['daily']['time'][0:1]"
   ]
  },
  {
   "cell_type": "code",
   "execution_count": 77,
   "id": "c4ecce90-1ee5-4af8-93ea-46ce2710c92d",
   "metadata": {},
   "outputs": [
    {
     "name": "stdout",
     "output_type": "stream",
     "text": [
      "2024-11-09\n",
      "2024-11-10\n",
      "2024-11-11\n"
     ]
    }
   ],
   "source": [
    "for date in lhr3data['daily']['time']:\n",
    "    print(date)"
   ]
  },
  {
   "cell_type": "code",
   "execution_count": 78,
   "id": "df27904d-1d67-4143-ad3a-6b289913534b",
   "metadata": {},
   "outputs": [
    {
     "name": "stdout",
     "output_type": "stream",
     "text": [
      "8.4\n",
      "10.7\n",
      "11.1\n"
     ]
    }
   ],
   "source": [
    "for temperature in lhr3data['daily']['temperature_2m_max']:\n",
    "    print (temperature)"
   ]
  },
  {
   "cell_type": "code",
   "execution_count": 85,
   "id": "e3f47bb1-adde-4382-a866-7b18b267c879",
   "metadata": {},
   "outputs": [
    {
     "name": "stdout",
     "output_type": "stream",
     "text": [
      "11.1\n"
     ]
    }
   ],
   "source": [
    "highesttemp = None\n",
    "for maxtemp in lhr3data['daily']['temperature_2m_max']:\n",
    "    if highesttemp is None or maxtemp > highesttemp:  \n",
    "        highesttemp = maxtemp \n",
    "print(highesttemp)"
   ]
  },
  {
   "cell_type": "code",
   "execution_count": null,
   "id": "6a373462-cea3-44c3-a39e-8b7621042f68",
   "metadata": {},
   "outputs": [],
   "source": [
    "# Did you find this easier or more difficult than using the weatherapi.com, and why? Which would you recommend to someone interesting in building a tool around weather information?"
   ]
  },
  {
   "cell_type": "code",
   "execution_count": null,
   "id": "daf20624-e658-4ad7-bdbc-2df1340eb4db",
   "metadata": {},
   "outputs": [],
   "source": [
    "# I found Open Meteo easier to use as you can just generate the url you need every time, but I found that theweatherapi.com had more functionality."
   ]
  }
 ],
 "metadata": {
  "kernelspec": {
   "display_name": "Python 3 (ipykernel)",
   "language": "python",
   "name": "python3"
  },
  "language_info": {
   "codemirror_mode": {
    "name": "ipython",
    "version": 3
   },
   "file_extension": ".py",
   "mimetype": "text/x-python",
   "name": "python",
   "nbconvert_exporter": "python",
   "pygments_lexer": "ipython3",
   "version": "3.11.8"
  }
 },
 "nbformat": 4,
 "nbformat_minor": 5
}
