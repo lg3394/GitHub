{
 "cells": [
  {
   "cell_type": "markdown",
   "metadata": {},
   "source": [
    "## Homework 7.1: Scraping downloading and converting and transforming Supreme Court Transcripts\n",
    "Here we are extending the our recent homework so that we can actually download PDFs of the transcripts.\n",
    "\n",
    "Here I demo how to download PDFs using python and then I use Tika which would need to be installed if you wanted to use it to convert the PDFs to text. You **should not** run this part, I am keeping it in here so you can use this in the future.\n",
    "\n",
    "I have provided the downloaded and converted court documents for the homework. Please **skip to the homework part** to start transforming those transcripts using regular expressions.\n"
   ]
  },
  {
   "cell_type": "code",
   "execution_count": 1,
   "metadata": {},
   "outputs": [],
   "source": [
    "import requests\n",
    "from bs4 import BeautifulSoup\n",
    "#the homework but here I am just getting the pdf link\n",
    "my_url = \"https://www.supremecourt.gov/oral_arguments/argument_transcript/2023\"\n",
    "raw_html = requests.get(my_url).content\n",
    "court_doc = BeautifulSoup(raw_html, \"html.parser\")\n"
   ]
  },
  {
   "cell_type": "code",
   "execution_count": 2,
   "metadata": {},
   "outputs": [
    {
     "data": {
      "text/plain": [
       "[{'docket_num': '23-108',\n",
       "  'pdf_link': '23-108_o7jp.pdf',\n",
       "  'case_name': 'Snyder v. United States',\n",
       "  'date': '04/15/24'},\n",
       " {'docket_num': '23-50',\n",
       "  'pdf_link': '23-50_g3bh.pdf',\n",
       "  'case_name': 'Chiaverini v. City of Napoleon',\n",
       "  'date': '04/15/24'},\n",
       " {'docket_num': '23-5572',\n",
       "  'pdf_link': '23-5572_l537.pdf',\n",
       "  'case_name': 'Fischer v. United States',\n",
       "  'date': '04/16/24'},\n",
       " {'docket_num': '22-982',\n",
       "  'pdf_link': '22-982_m64n.pdf',\n",
       "  'case_name': 'Thornell v. Jones',\n",
       "  'date': '04/17/24'},\n",
       " {'docket_num': '23-175',\n",
       "  'pdf_link': '23-175_20f4.pdf',\n",
       "  'case_name': 'City of Grants Pass v. Johnson',\n",
       "  'date': '04/22/24'},\n",
       " {'docket_num': '22-1218',\n",
       "  'pdf_link': '22-1218_h3ci.pdf',\n",
       "  'case_name': 'Smith v. Spizzirri',\n",
       "  'date': '04/22/24'},\n",
       " {'docket_num': '23-334',\n",
       "  'pdf_link': '23-334_ifjm.pdf',\n",
       "  'case_name': 'Dept. of State v. Munoz',\n",
       "  'date': '04/23/24'},\n",
       " {'docket_num': '23-367',\n",
       "  'pdf_link': '23-367_5he6.pdf',\n",
       "  'case_name': 'Starbucks Corp. v. McKinney',\n",
       "  'date': '04/23/24'},\n",
       " {'docket_num': '23-726',\n",
       "  'pdf_link': '23-726_ggco.pdf',\n",
       "  'case_name': 'Moyle v. United States',\n",
       "  'date': '04/24/24'},\n",
       " {'docket_num': '23-939',\n",
       "  'pdf_link': '23-939_3fb4.pdf',\n",
       "  'case_name': 'Trump v. United States',\n",
       "  'date': '04/25/24'},\n",
       " {'docket_num': '23-411',\n",
       "  'pdf_link': '23-411_5367.pdf',\n",
       "  'case_name': 'Murthy, Surgeon Gen. v. Missouri',\n",
       "  'date': '03/18/24'},\n",
       " {'docket_num': '22-842',\n",
       "  'pdf_link': '22-842_1823.pdf',\n",
       "  'case_name': 'NRA v. Vullo',\n",
       "  'date': '03/18/24'},\n",
       " {'docket_num': '23-14',\n",
       "  'pdf_link': '23-14_885f.pdf',\n",
       "  'case_name': 'Diaz v. United States',\n",
       "  'date': '03/19/24'},\n",
       " {'docket_num': '22-1079',\n",
       "  'pdf_link': '22-1079_4357.pdf',\n",
       "  'case_name': 'Truck Insurance Exchange v. Kaiser Gypsum Co. Inc.',\n",
       "  'date': '03/19/24'},\n",
       " {'docket_num': '22-1025',\n",
       "  'pdf_link': '22-1025_k13j.pdf',\n",
       "  'case_name': 'Gonzalez v. Trevino',\n",
       "  'date': '03/20/24'},\n",
       " {'docket_num': '141-Orig',\n",
       "  'pdf_link': '141-orig_2_5okl.pdf',\n",
       "  'case_name': 'Texas v. New Mexico and Colorado',\n",
       "  'date': '03/20/24'},\n",
       " {'docket_num': '23-250',\n",
       "  'pdf_link': '23-250_9o6b.pdf',\n",
       "  'case_name': 'Becerra, Sec. of H&HS v. San Carlos Apache Tribe',\n",
       "  'date': '03/25/24'},\n",
       " {'docket_num': '23-21',\n",
       "  'pdf_link': '23-21_7m4e.pdf',\n",
       "  'case_name': 'Harrow v. Dept. of Defense',\n",
       "  'date': '03/25/24'},\n",
       " {'docket_num': '23-235',\n",
       "  'pdf_link': '23-235_g71f.pdf',\n",
       "  'case_name': 'FDA v. Alliance Hippocratic Medicine',\n",
       "  'date': '03/26/24'},\n",
       " {'docket_num': '23-370',\n",
       "  'pdf_link': '23-370_5368.pdf',\n",
       "  'case_name': 'Erlinger v. United States',\n",
       "  'date': '03/27/24'},\n",
       " {'docket_num': '23-146',\n",
       "  'pdf_link': '23-146_5pd4.pdf',\n",
       "  'case_name': 'Connelly v. United States',\n",
       "  'date': '03/27/24'},\n",
       " {'docket_num': '23-719',\n",
       "  'pdf_link': '23-719_2jf3.pdf',\n",
       "  'case_name': 'Trump v. Anderson',\n",
       "  'date': '02/08/24'},\n",
       " {'docket_num': '22-1008',\n",
       "  'pdf_link': '22-1008_f3b7.pdf',\n",
       "  'case_name': 'Corner Post, Inc. v. Bd. of Governors, FRS',\n",
       "  'date': '02/20/24'},\n",
       " {'docket_num': '23-51',\n",
       "  'pdf_link': '23-51_869d.pdf',\n",
       "  'case_name': 'Bissonnette v. LePage Bakeries Park St., LLC',\n",
       "  'date': '02/20/24'},\n",
       " {'docket_num': '23A349',\n",
       "  'pdf_link': '23a349_iie0.pdf',\n",
       "  'case_name': 'Ohio v. EPA',\n",
       "  'date': '02/21/24'},\n",
       " {'docket_num': '22-1078',\n",
       "  'pdf_link': '22-1078_775f.pdf',\n",
       "  'case_name': 'Warner Chappell Music, Inc. v. Nealy',\n",
       "  'date': '02/21/24'},\n",
       " {'docket_num': '22-277',\n",
       "  'pdf_link': '22-277_5924.pdf',\n",
       "  'case_name': 'Moody v. NetChoice, LLC',\n",
       "  'date': '02/26/24'},\n",
       " {'docket_num': '22-555',\n",
       "  'pdf_link': '22-555_6a77.pdf',\n",
       "  'case_name': 'NetChoice, LLC v. Paxton',\n",
       "  'date': '02/26/24'},\n",
       " {'docket_num': '22-7386',\n",
       "  'pdf_link': '22-7386_ipdh.pdf',\n",
       "  'case_name': 'McIntosh v. United States',\n",
       "  'date': '02/27/24'},\n",
       " {'docket_num': '22-529',\n",
       "  'pdf_link': '22-529_f64i.pdf',\n",
       "  'case_name': 'Cantero v. Bank of America, N.A.',\n",
       "  'date': '02/27/24'},\n",
       " {'docket_num': '22-976',\n",
       "  'pdf_link': '22-976_l07n.pdf',\n",
       "  'case_name': \"Garland, Att'y Gen. v. Cargill\",\n",
       "  'date': '02/28/24'},\n",
       " {'docket_num': '23-3',\n",
       "  'pdf_link': '23-3_g21a.pdf',\n",
       "  'case_name': 'Coinbase, Inc. v. Suski',\n",
       "  'date': '02/28/24'},\n",
       " {'docket_num': '22-674',\n",
       "  'pdf_link': '22-674_kifl.pdf',\n",
       "  'case_name': \"Campos-Chaves v. Garland, Att'y Gen.\",\n",
       "  'date': '01/08/24'},\n",
       " {'docket_num': '22-1178',\n",
       "  'pdf_link': '22-1178_97m5.pdf',\n",
       "  'case_name': 'FBI v. Fikre',\n",
       "  'date': '01/08/24'},\n",
       " {'docket_num': '22-1074',\n",
       "  'pdf_link': '22-1074_qp3m.pdf',\n",
       "  'case_name': 'Sheetz v. County of El Dorado',\n",
       "  'date': '01/09/24'},\n",
       " {'docket_num': '22-1238',\n",
       "  'pdf_link': '22-1238_121f.pdf',\n",
       "  'case_name': 'United States Trustee v. John Q. Hammons Fall 2006, LLC',\n",
       "  'date': '01/09/24'},\n",
       " {'docket_num': '22-899',\n",
       "  'pdf_link': '22-899_l9g4.pdf',\n",
       "  'case_name': 'Smith v. Arizona',\n",
       "  'date': '01/10/24'},\n",
       " {'docket_num': '22-1165',\n",
       "  'pdf_link': '22-1165_9m6j.pdf',\n",
       "  'case_name': 'Macquarie Infrastructure Corp. v. Moab Partners, L.P.',\n",
       "  'date': '01/16/24'},\n",
       " {'docket_num': '22-913',\n",
       "  'pdf_link': '22-913_9pg7.pdf',\n",
       "  'case_name': 'Devillier v. Texas',\n",
       "  'date': '01/16/24'},\n",
       " {'docket_num': '22-451',\n",
       "  'pdf_link': '22-451_114p.pdf',\n",
       "  'case_name': 'Loper Bright Enterprises, Inc. v. Raimondo, Sec. of Comm.',\n",
       "  'date': '01/17/24'},\n",
       " {'docket_num': '22-1219',\n",
       "  'pdf_link': '22-1219_4246.pdf',\n",
       "  'case_name': 'Relentless, Inc. v. Dept. of Commerce',\n",
       "  'date': '01/17/24'},\n",
       " {'docket_num': '22-6389',\n",
       "  'pdf_link': '22-6389_7q84.pdf',\n",
       "  'case_name': 'Brown v. United States',\n",
       "  'date': '11/27/23'},\n",
       " {'docket_num': '22-721',\n",
       "  'pdf_link': '22-721_l0h7.pdf',\n",
       "  'case_name': 'McElrath v. Georgia',\n",
       "  'date': '11/28/23'},\n",
       " {'docket_num': '22-666',\n",
       "  'pdf_link': '22-666_l6h2.pdf',\n",
       "  'case_name': \"Wilkinson v. Garland, Att'y Gen.\",\n",
       "  'date': '11/28/23'},\n",
       " {'docket_num': '22-859',\n",
       "  'pdf_link': '22-859_h280.pdf',\n",
       "  'case_name': 'SEC v. Jarkesy',\n",
       "  'date': '11/29/23'},\n",
       " {'docket_num': '23-124',\n",
       "  'pdf_link': '23-124_kp3g.pdf',\n",
       "  'case_name': 'Harrington v. Purdue Pharma L.P.',\n",
       "  'date': '12/04/23'},\n",
       " {'docket_num': '22-800',\n",
       "  'pdf_link': '22-800_6j36.pdf',\n",
       "  'case_name': 'Moore v. United States',\n",
       "  'date': '12/05/23'},\n",
       " {'docket_num': '22-193',\n",
       "  'pdf_link': '22-193_3i4q.pdf',\n",
       "  'case_name': 'Muldrow v. St. Louis',\n",
       "  'date': '12/06/23'},\n",
       " {'docket_num': '22-585',\n",
       "  'pdf_link': '22-585_d6od.pdf',\n",
       "  'case_name': 'Culley v. Marshall',\n",
       "  'date': '10/30/23'},\n",
       " {'docket_num': '22-324',\n",
       "  'pdf_link': '22-324_4gid.pdf',\n",
       "  'case_name': 'O’Connor-Ratcliff v. Garnier',\n",
       "  'date': '10/31/23'},\n",
       " {'docket_num': '22-611',\n",
       "  'pdf_link': '22-611_p3lb.pdf',\n",
       "  'case_name': 'Lindke v. Freed',\n",
       "  'date': '10/31/23'},\n",
       " {'docket_num': '22-704',\n",
       "  'pdf_link': '22-704_i624.pdf',\n",
       "  'case_name': 'Vidal, Under Sec. of Comm. v. Elster',\n",
       "  'date': '11/01/23'},\n",
       " {'docket_num': '22-846',\n",
       "  'pdf_link': '22-846_dijk.pdf',\n",
       "  'case_name': 'Dept. of Agric. Rural Dev. v. Kirtz',\n",
       "  'date': '11/06/23'},\n",
       " {'docket_num': '22-915',\n",
       "  'pdf_link': '22-915_6khn.pdf',\n",
       "  'case_name': 'United States v. Rahimi',\n",
       "  'date': '11/07/23'},\n",
       " {'docket_num': '22-888',\n",
       "  'pdf_link': '22-888_olp1.pdf',\n",
       "  'case_name': 'Rudisill v. McDonough, Sec. of VA',\n",
       "  'date': '11/08/23'},\n",
       " {'docket_num': '22-340',\n",
       "  'pdf_link': '22-340_hhdp.pdf',\n",
       "  'case_name': 'Pulsifer v. United States',\n",
       "  'date': '10/02/23'},\n",
       " {'docket_num': '22-448',\n",
       "  'pdf_link': '22-448_2ma8.pdf',\n",
       "  'case_name': 'CFPB v. Com. Fin. Services Assn.',\n",
       "  'date': '10/03/23'},\n",
       " {'docket_num': '22-429',\n",
       "  'pdf_link': '22-429_9klb.pdf',\n",
       "  'case_name': 'Acheson Hotels, LLC v. Laufer',\n",
       "  'date': '10/04/23'},\n",
       " {'docket_num': '22-660',\n",
       "  'pdf_link': '22-660_5357.pdf',\n",
       "  'case_name': 'Murray v. UBS Securities, LLC',\n",
       "  'date': '10/10/23'},\n",
       " {'docket_num': '22-500',\n",
       "  'pdf_link': '22-500_2l82.pdf',\n",
       "  'case_name': 'Great Lakes Insurance SE v. Raiders Retreat Realty Co., LLC',\n",
       "  'date': '10/10/23'},\n",
       " {'docket_num': '22-807',\n",
       "  'pdf_link': '22-807_1chk.pdf',\n",
       "  'case_name': 'Alexander v. SC Conference of NAACP',\n",
       "  'date': '10/11/23'}]"
      ]
     },
     "execution_count": 2,
     "metadata": {},
     "output_type": "execute_result"
    }
   ],
   "source": [
    "# getting all of the court info\n",
    "all_rows = court_doc.find_all('tr')\n",
    "each_case = []\n",
    "for row in all_rows[1:]:\n",
    "    if row.td:\n",
    "        this_row = {}\n",
    "        each_cell=row.find_all('td')\n",
    "        this_row['docket_num'] = each_cell[0].span.text\n",
    "        #I am using split below to get just the pdf name out of the file structure\n",
    "        #so instead of ../argument_transcripts/2023/22-6389_8n59.pdf I get 22-6389_8n59.pdf\n",
    "        this_row['pdf_link'] = each_cell[0].a['href'].split('/')[-1]\n",
    "        this_row['case_name'] = each_cell[0].find_all('span')[1].text\n",
    "        this_row['date'] = each_cell[1].text\n",
    "        each_case.append(this_row)\n",
    "each_case\n"
   ]
  },
  {
   "cell_type": "code",
   "execution_count": null,
   "metadata": {},
   "outputs": [],
   "source": []
  },
  {
   "cell_type": "markdown",
   "metadata": {},
   "source": [
    "Next I used the **requests** library to download all of the PDFs to a folder on my computer."
   ]
  },
  {
   "cell_type": "code",
   "execution_count": 3,
   "metadata": {},
   "outputs": [],
   "source": [
    "#folder hierarchy\n",
    "#https://www.supremecourt.gov/oral_arguments/argument_transcripts/2023/"
   ]
  },
  {
   "cell_type": "code",
   "execution_count": 4,
   "metadata": {},
   "outputs": [],
   "source": [
    "import time\n",
    "import requests\n",
    "for case in each_case:\n",
    "    time.sleep(2)\n",
    "    link = 'https://www.supremecourt.gov/oral_arguments/argument_transcripts/2023/' + case['pdf_link']\n",
    "    file_name = \"court_docs/\" + case['pdf_link']\n",
    "    r = requests.get(link, stream=True)\n",
    "    with open(file_name,'wb') as Pypdf:\n",
    "        for chunk in r.iter_content():\n",
    "            if chunk:\n",
    "                Pypdf.write(chunk)"
   ]
  },
  {
   "cell_type": "code",
   "execution_count": 5,
   "metadata": {},
   "outputs": [
    {
     "data": {
      "text/plain": [
       "61"
      ]
     },
     "execution_count": 5,
     "metadata": {},
     "output_type": "execute_result"
    }
   ],
   "source": [
    "len(each_case)"
   ]
  },
  {
   "cell_type": "markdown",
   "metadata": {},
   "source": [
    "\n",
    "Here I use **tika** to extract the text from the pdfs and write txt files to my computer."
   ]
  },
  {
   "cell_type": "code",
   "execution_count": 6,
   "metadata": {},
   "outputs": [
    {
     "ename": "ModuleNotFoundError",
     "evalue": "No module named 'tika'",
     "output_type": "error",
     "traceback": [
      "\u001b[0;31m---------------------------------------------------------------------------\u001b[0m",
      "\u001b[0;31mModuleNotFoundError\u001b[0m                       Traceback (most recent call last)",
      "Cell \u001b[0;32mIn[6], line 1\u001b[0m\n\u001b[0;32m----> 1\u001b[0m \u001b[38;5;28;01mimport\u001b[39;00m \u001b[38;5;21;01mtika\u001b[39;00m\n\u001b[1;32m      2\u001b[0m \u001b[38;5;28;01mfrom\u001b[39;00m \u001b[38;5;21;01mtika\u001b[39;00m \u001b[38;5;28;01mimport\u001b[39;00m parser\n\u001b[1;32m      3\u001b[0m \u001b[38;5;28;01mimport\u001b[39;00m \u001b[38;5;21;01mtime\u001b[39;00m\n",
      "\u001b[0;31mModuleNotFoundError\u001b[0m: No module named 'tika'"
     ]
    }
   ],
   "source": [
    "import tika\n",
    "from tika import parser\n",
    "import time\n",
    "for case in each_case:\n",
    "    time.sleep(0.5)\n",
    "    print(case['pdf_link'])\n",
    "    file_name = \"court_docs/\" + case['pdf_link']\n",
    "    parsed_pdf = parser.from_file(file_name) \n",
    "    txt_data = parsed_pdf['content']\n",
    "    txt_name = case['pdf_link'].split('.')[0] + \".txt\"\n",
    "    print(txt_name)\n",
    "    file_out =\"court_docs/\" + txt_name\n",
    "    with open(file_out, 'w') as outfile:\n",
    "        outfile.write(txt_data)\n",
    "\n",
    "\n",
    "    "
   ]
  },
  {
   "cell_type": "code",
   "execution_count": null,
   "metadata": {},
   "outputs": [],
   "source": []
  },
  {
   "cell_type": "code",
   "execution_count": null,
   "metadata": {},
   "outputs": [],
   "source": [
    "#Open a text file from your computer\n",
    "#We are going to use this one.\n",
    "\n",
    "f = open('court_docs/23-108_o7jp.txt', 'r')\n",
    "sample_transcript = f.read()"
   ]
  },
  {
   "cell_type": "code",
   "execution_count": null,
   "metadata": {},
   "outputs": [],
   "source": [
    "sample_transcript"
   ]
  },
  {
   "cell_type": "markdown",
   "metadata": {},
   "source": [
    "### NOW THE HOMEWORK!!\n",
    "**How in the world are you going to clean this up?**\n",
    "Take a close look and think about first what needs to be removed, and then needs to be isolated. You'll probably need the combination of regular expression. You will need to using re.subs() -- which is a regex replace -- and re.split() -- where you split the text that point, and just keep the part of the text that you want.\n",
    "\n"
   ]
  },
  {
   "cell_type": "code",
   "execution_count": null,
   "metadata": {},
   "outputs": [],
   "source": [
    "import re\n",
    "f = open('court_docs/23-108_o7jp.txt', 'r')\n",
    "sample_transcript = f.read()\n",
    "sample_transcript"
   ]
  },
  {
   "cell_type": "markdown",
   "metadata": {},
   "source": [
    "**GET RID OF THE HEADER FIRST**\n",
    "\n",
    "Try to find the pattern that appears at the beginning of every case, when the arguments begin.\n",
    "\n",
    "Make a regular expression that will find that, and use an re.split() to split the transcript into a list with two parts, the header and the rest.\n",
    "\n",
    "Save the rest! (That is, hint hint, the [1] element in that list.)\n"
   ]
  },
  {
   "cell_type": "code",
   "execution_count": null,
   "metadata": {},
   "outputs": [],
   "source": [
    "#revome the header\n"
   ]
  },
  {
   "cell_type": "markdown",
   "metadata": {},
   "source": [
    "**NEXT GET RID OF THE FOOTER** \n",
    "\n",
    "Do the same thing you did above: find a pattern that appears at the end of every transcript.\n",
    "\n",
    "Do an re.split() and save the part with the arguments.\n"
   ]
  },
  {
   "cell_type": "code",
   "execution_count": null,
   "metadata": {},
   "outputs": [],
   "source": [
    "#remove the footer\n"
   ]
  },
  {
   "cell_type": "markdown",
   "metadata": {},
   "source": [
    "**REMOVE THE PAGE BREAKS**\n",
    "\n",
    "OK, the page breaks are very messy, they have tons of numbers and other text. Try to write an expression that captures all of that!\n",
    "\n",
    "When you do that use re.sub() to replace all of those page break messes with \" \"."
   ]
  },
  {
   "cell_type": "code",
   "execution_count": null,
   "metadata": {},
   "outputs": [],
   "source": [
    "#remove the page breaks"
   ]
  },
  {
   "cell_type": "markdown",
   "metadata": {},
   "source": [
    "**SPLIT THE DIALOGUE BY SPEAKER AND SPEECH (SPEAKER/WORDS)**\n",
    "\n",
    "This is the toughest part. You need to write a regular expression that accurately captures who is speaking like:\n",
    "```\n",
    "MR. GORE:\n",
    "```\n",
    "OR\n",
    "```\n",
    "JUSTICE KAGAN:\n",
    "```\n",
    "If you do a split using groups (as a demoed in the advanced regular expressions notebook), it will split by the pattern but keep the pattern instead of discarding it (like a default split does). And that way you will get a list where every other element is the speaker. Like this (this is taken from inside the transcript):\n",
    "\n",
    "```\n",
    "'JUSTICE KAGAN',\n",
    " '  Did your expert \\n\\npresent an alternative study which did control \\n\\nfor geography and reached a different result? ',\n",
    " 'MR. GORE',\n",
    " \" He did not try to mirror \\n\\nDr. Ragusa's study --\",\n",
    " 'JUSTICE KAGAN',\n",
    " '  Because that would \\n\\nhave been the easiest way to undermine the \\n\\ntheory.  I mean, as I understand it, this was \\n\\nhardly touched upon by -- by -- by -- by the \\n\\nstate below.  And, certainly, the state did not \\n\\ndo what would seem to be the -- the normal thing \\n\\nif you were really concerned about this, which \\n\\nis to say: Look at our study.  We controlled \\n\\n \\n\\nfor geography. The results are entirely\\n\\n different.',\n",
    " 'MR. GORE',\n",
    " \" We did raise objections to\\n\\n Dr. Ragusa's methodology, and as I was \\n\\nexplaining, it is a flawed methodology and not\\n\\n reliable.\\n\\n Moreover, the state presented direct\\n\\n testimony from the map drawer to explain which\\n\\n VTDs were chosen and why.  That direct evidence \\n\\nshowed, like all the other direct evidence, that \\n\\ndecisions were made based on politics and \\n\\ntraditional principles and not using race at \\n\\nall. \",\n",
    " 'JUSTICE SOTOMAYOR',\n",
    " \" I think you end up \\n\\nin a very poor starting point under clear error \\n\\narguing the substance of believability of one \\n\\nexpert over another, because credibility \\n\\nfindings under clear error standard must be \\n\\ndeferred to to the district court. \\n\\nI understand your points about -- your \\n\\npoint about Dr. Ragusa, but I just point out \\n\\nthat other experts before the court and he \\n\\nhimself said that geography was very much \\n\\nembedded as part of the structure of his \\n\\nanalysis. \\n\\n \\n\\nYou may disagree with that.  It's\\n\\n going to be very hard for you to show that no \\n\\nfact finder could credit that understanding of\\n\\n his testimony.\\n\\n But I think what I'm really troubled \\n\\nby is, going back to Justice Thomas's question, \\n\\nwhat's the legal error and what's the clear\\n\\n error? Just tick them off for me.\",\n",
    " 'MR. GORE',\n",
    " ' There are several legal \\n\\nerrors, Justice Sotomayor. ',\n",
    " 'JUSTICE SOTOMAYOR',\n",
    " '  Not facts.  I want \\n\\nlegal errors or clear errors beyond -- under our \\n\\nstandard. ',\n",
    " 'MR. GORE',\n",
    " ' The first legal error is a \\n\\nfailure to enforce the alternative map \\n\\nrequirement. ',\n",
    " 'JUSTICE KAGAN',\n",
    " \"  Okay.  I'm going to \\n\\nbutt in.  And I'm sorry, Justice Sotomayor. \",\n",
    " 'JUSTICE SOTOMAYOR',\n",
    " '  Yes, you can --\\n\\nyou can start there. ',\n",
    "```\n",
    "\n",
    "If you get this, you are done!!"
   ]
  },
  {
   "cell_type": "code",
   "execution_count": null,
   "metadata": {},
   "outputs": [],
   "source": [
    "#split speakers!!"
   ]
  },
  {
   "cell_type": "code",
   "execution_count": null,
   "metadata": {},
   "outputs": [],
   "source": [
    "#go back and try this on a few other transcript by changing the name of the text file, and see if this works on a few more!!\n",
    "\n"
   ]
  },
  {
   "cell_type": "markdown",
   "metadata": {},
   "source": [
    "### Now, loop through all of the 2023 text files and get one list of dictionaries\n",
    "\n",
    "The entries should be\n",
    "docketnum:\n",
    "speaker:\n",
    "text:"
   ]
  },
  {
   "cell_type": "code",
   "execution_count": null,
   "metadata": {},
   "outputs": [],
   "source": []
  },
  {
   "cell_type": "markdown",
   "metadata": {},
   "source": [
    "### Finally, bring that into pandas!"
   ]
  },
  {
   "cell_type": "code",
   "execution_count": null,
   "metadata": {},
   "outputs": [],
   "source": []
  }
 ],
 "metadata": {
  "kernelspec": {
   "display_name": "Python 3 (ipykernel)",
   "language": "python",
   "name": "python3"
  },
  "language_info": {
   "codemirror_mode": {
    "name": "ipython",
    "version": 3
   },
   "file_extension": ".py",
   "mimetype": "text/x-python",
   "name": "python",
   "nbconvert_exporter": "python",
   "pygments_lexer": "ipython3",
   "version": "3.11.8"
  }
 },
 "nbformat": 4,
 "nbformat_minor": 4
}
